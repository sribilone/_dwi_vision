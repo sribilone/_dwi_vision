{
 "cells": [
  {
   "cell_type": "code",
   "execution_count": 1,
   "metadata": {},
   "outputs": [],
   "source": [
    "import os\n",
    "import shutil\n",
    "import re"
   ]
  },
  {
   "cell_type": "code",
   "execution_count": 9,
   "metadata": {},
   "outputs": [],
   "source": [
    "def copy_files(src_mask_base, src_original, dst_mask, dst_original, exclude_folders=None):\n",
    "    if exclude_folders is None:\n",
    "        exclude_folders = []\n",
    "\n",
    "    # สร้างโฟลเดอร์ปลายทางถ้ายังไม่มี\n",
    "    os.makedirs(dst_mask, exist_ok=True)\n",
    "    os.makedirs(dst_original, exist_ok=True)\n",
    "\n",
    "    # หาโฟลเดอร์ย่อยทั้งหมดที่ตรงกับรูปแบบ A\\d{3} และไม่อยู่ในรายการยกเว้น\n",
    "    subfolders = [f for f in os.listdir(src_mask_base) \n",
    "                  if os.path.isdir(os.path.join(src_mask_base, f)) \n",
    "                  and re.match(r'A\\d{3}', f) \n",
    "                  and f not in exclude_folders]\n",
    "\n",
    "    for folder_name in subfolders:\n",
    "        src_mask = os.path.join(src_mask_base, folder_name)\n",
    "        \n",
    "        print(f\"กำลังประมวลผลโฟลเดอร์: {folder_name}\")\n",
    "        \n",
    "        # คัดลอกและเปลี่ยนชื่อไฟล์จาก mask/Axxx ไปยัง dwi_dataset_label/mask\n",
    "        for filename in os.listdir(src_mask):\n",
    "            if filename.endswith(\"_mask.png\"):  # สมมติว่าไฟล์เป็น .png\n",
    "                new_mask_filename = f\"{folder_name}_{filename}\"\n",
    "                shutil.copy2(os.path.join(src_mask, filename), os.path.join(dst_mask, new_mask_filename))\n",
    "                \n",
    "                # หาชื่อไฟล์ต้นฉบับใน original folder\n",
    "                original_filename = filename.replace(\"_mask\", \"\")\n",
    "                original_filename = f\"{folder_name}_{original_filename}\"\n",
    "                src_original_path = os.path.join(src_original, original_filename)\n",
    "                \n",
    "                # ถ้ามีไฟล์ต้นฉบับอยู่ ให้คัดลอกไปยัง dwi_dataset_label/original\n",
    "                if os.path.exists(src_original_path):\n",
    "                    new_original_filename = f\"{folder_name}_{original_filename}\"\n",
    "                    shutil.copy2(src_original_path, os.path.join(dst_original, new_original_filename))\n",
    "                else:\n",
    "                    print(f\"ไม่พบไฟล์ต้นฉบับ: {original_filename} ในโฟลเดอร์ {src_original}\")\n",
    "\n",
    "    print(f\"ดำเนินการเสร็จสิ้น คัดลอกและเปลี่ยนชื่อไฟล์จาก {len(subfolders)} โฟลเดอร์\")\n",
    "    if exclude_folders:\n",
    "        print(f\"ข้ามโฟลเดอร์: {', '.join(exclude_folders)}\")\n"
   ]
  },
  {
   "cell_type": "code",
   "execution_count": 11,
   "metadata": {},
   "outputs": [
    {
     "name": "stdout",
     "output_type": "stream",
     "text": [
      "กำลังประมวลผลโฟลเดอร์: A023\n",
      "กำลังประมวลผลโฟลเดอร์: A024\n",
      "กำลังประมวลผลโฟลเดอร์: A012\n",
      "กำลังประมวลผลโฟลเดอร์: A015\n",
      "กำลังประมวลผลโฟลเดอร์: A013\n",
      "กำลังประมวลผลโฟลเดอร์: A025\n",
      "กำลังประมวลผลโฟลเดอร์: A022\n",
      "กำลังประมวลผลโฟลเดอร์: A007\n",
      "กำลังประมวลผลโฟลเดอร์: A009\n",
      "กำลังประมวลผลโฟลเดอร์: A008\n",
      "กำลังประมวลผลโฟลเดอร์: A030\n",
      "กำลังประมวลผลโฟลเดอร์: A006\n",
      "กำลังประมวลผลโฟลเดอร์: A020\n",
      "กำลังประมวลผลโฟลเดอร์: A029\n",
      "กำลังประมวลผลโฟลเดอร์: A016\n",
      "กำลังประมวลผลโฟลเดอร์: A011\n",
      "กำลังประมวลผลโฟลเดอร์: A010\n",
      "กำลังประมวลผลโฟลเดอร์: A028\n",
      "กำลังประมวลผลโฟลเดอร์: A017\n",
      "กำลังประมวลผลโฟลเดอร์: A021\n",
      "กำลังประมวลผลโฟลเดอร์: A019\n",
      "กำลังประมวลผลโฟลเดอร์: A026\n",
      "กำลังประมวลผลโฟลเดอร์: A003\n",
      "ดำเนินการเสร็จสิ้น คัดลอกและเปลี่ยนชื่อไฟล์จาก 23 โฟลเดอร์\n",
      "ข้ามโฟลเดอร์: A001, A002, A004, A005, A018, A014, A098(BAM), A099(BAM)\n"
     ]
    }
   ],
   "source": [
    "# ใช้งานฟังก์ชัน\n",
    "src_mask_base = \"/Users/Sribilone/AiiLAB/_dwi_project/mask_dwi_image/SET1\"  # โฟลเดอร์หลักที่มีโฟลเดอร์ย่อย Axxx\n",
    "src_original = \"/Users/Sribilone/AiiLAB/_dwi_project/image_original_dataset/positive_case\"\n",
    "dst_mask = \"/Users/Sribilone/AiiLAB/_dwi_project/dwi_dataset_labeled/mask\"\n",
    "dst_original = \"/Users/Sribilone/AiiLAB/_dwi_project/dwi_dataset_labeled/original\"\n",
    "\n",
    "exclude_folders = [\"A001\", \"A002\", \"A004\", \"A005\", \"A018\", \"A014\",  \"A098(BAM)\", \"A099(BAM)\"]  # โฟลเดอร์ที่ต้องการข้าม\n",
    "\n",
    "copy_files(src_mask_base, src_original, dst_mask, dst_original, exclude_folders)"
   ]
  },
  {
   "cell_type": "code",
   "execution_count": null,
   "metadata": {},
   "outputs": [],
   "source": []
  }
 ],
 "metadata": {
  "kernelspec": {
   "display_name": "dwi_dft",
   "language": "python",
   "name": "python3"
  },
  "language_info": {
   "codemirror_mode": {
    "name": "ipython",
    "version": 3
   },
   "file_extension": ".py",
   "mimetype": "text/x-python",
   "name": "python",
   "nbconvert_exporter": "python",
   "pygments_lexer": "ipython3",
   "version": "3.11.9"
  }
 },
 "nbformat": 4,
 "nbformat_minor": 2
}
